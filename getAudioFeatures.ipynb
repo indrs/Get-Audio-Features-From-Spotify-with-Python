{
 "cells": [
  {
   "cell_type": "code",
   "execution_count": 1,
   "metadata": {
    "collapsed": true
   },
   "outputs": [],
   "source": [
    "# Import Packages\n",
    "import spotipy\n",
    "import spotipy.util as util\n",
    "from spotipy.oauth2 import SpotifyClientCredentials\n",
    "import pandas as pd\n",
    "import numpy as np\n",
    "import time\n",
    "import sys\n",
    "import random"
   ]
  },
  {
   "cell_type": "code",
   "execution_count": 2,
   "metadata": {
    "collapsed": true
   },
   "outputs": [],
   "source": [
    "# ID and Password for accessing Spotify API\n",
    "client_id = \"xxxxxxxxx\"\n",
    "client_secret = \"xxxxxxxxxx\"\n",
    "\n",
    "# Setup the credentials\n",
    "client_credentials_manager = SpotifyClientCredentials(client_id=client_id, client_secret=client_secret)\n",
    "\n",
    "# Make the connection\n",
    "sp = spotipy.Spotify(client_credentials_manager=client_credentials_manager)"
   ]
  },
  {
   "cell_type": "code",
   "execution_count": 3,
   "metadata": {
    "collapsed": true
   },
   "outputs": [],
   "source": [
    "# Get all spotify playlists\n",
    "playlists = sp.user_playlists('supriyadi.idn')\n",
    "\n",
    "# Empty list to hold playlist information\n",
    "spotify_playlists = []\n",
    "\n",
    "# Loop to get data for each playlist\n",
    "while playlists:\n",
    "    \n",
    "    for i, playlist in enumerate(playlists['items']):\n",
    "        names = playlist['name']\n",
    "        track_count = playlist['tracks']['total']\n",
    "        ids = playlist['id']\n",
    "        uri = playlist['uri']\n",
    "        href = playlist['href']\n",
    "        public = playlist['public']\n",
    "        data_aggregation = names, track_count, ids, uri, href, public\n",
    "        spotify_playlists.append(data_aggregation)\n",
    "        \n",
    "    if playlists['next']:\n",
    "        playlists = sp.next(playlists)\n",
    "    \n",
    "    else:\n",
    "        playlists = None"
   ]
  },
  {
   "cell_type": "code",
   "execution_count": 4,
   "metadata": {},
   "outputs": [
    {
     "data": {
      "text/html": [
       "<div>\n",
       "<style>\n",
       "    .dataframe thead tr:only-child th {\n",
       "        text-align: right;\n",
       "    }\n",
       "\n",
       "    .dataframe thead th {\n",
       "        text-align: left;\n",
       "    }\n",
       "\n",
       "    .dataframe tbody tr th {\n",
       "        vertical-align: top;\n",
       "    }\n",
       "</style>\n",
       "<table border=\"1\" class=\"dataframe\">\n",
       "  <thead>\n",
       "    <tr style=\"text-align: right;\">\n",
       "      <th></th>\n",
       "      <th>Name</th>\n",
       "      <th>No. of Tracks</th>\n",
       "      <th>ID</th>\n",
       "      <th>URI</th>\n",
       "      <th>HREF</th>\n",
       "      <th>Public</th>\n",
       "    </tr>\n",
       "  </thead>\n",
       "  <tbody>\n",
       "    <tr>\n",
       "      <th>0</th>\n",
       "      <td>pop</td>\n",
       "      <td>365</td>\n",
       "      <td>45UoCqtVh2BR1HteUkmRje</td>\n",
       "      <td>spotify:user:supriyadi.idn:playlist:45UoCqtVh2...</td>\n",
       "      <td>https://api.spotify.com/v1/users/supriyadi.idn...</td>\n",
       "      <td>True</td>\n",
       "    </tr>\n",
       "  </tbody>\n",
       "</table>\n",
       "</div>"
      ],
      "text/plain": [
       "  Name No. of Tracks                      ID  \\\n",
       "0  pop           365  45UoCqtVh2BR1HteUkmRje   \n",
       "\n",
       "                                                 URI  \\\n",
       "0  spotify:user:supriyadi.idn:playlist:45UoCqtVh2...   \n",
       "\n",
       "                                                HREF Public  \n",
       "0  https://api.spotify.com/v1/users/supriyadi.idn...   True  "
      ]
     },
     "execution_count": 4,
     "metadata": {},
     "output_type": "execute_result"
    }
   ],
   "source": [
    "# Convert list into a dataframe\n",
    "data = pd.DataFrame(np.array(spotify_playlists).reshape(len(spotify_playlists),6), \n",
    "                    columns=['Name', 'No. of Tracks', 'ID', 'URI', 'HREF', 'Public'])\n",
    "data.head()"
   ]
  },
  {
   "cell_type": "code",
   "execution_count": 5,
   "metadata": {
    "collapsed": true
   },
   "outputs": [],
   "source": [
    "# New function to get tracks in playlist\n",
    "def get_playlist_tracks(username, playlist_id):\n",
    "    results = sp.user_playlist_tracks(username, playlist_id)\n",
    "    tracks = results['items']\n",
    "    while results['next']:\n",
    "        results = sp.next(results)\n",
    "        tracks.extend(results['items'])\n",
    "    return tracks"
   ]
  },
  {
   "cell_type": "code",
   "execution_count": 6,
   "metadata": {
    "collapsed": true
   },
   "outputs": [],
   "source": [
    "# Subsample of data to pull\n",
    "Spotify_playlists = data.iloc[0:10]\n",
    "\n",
    "# Create playlist cache in memory\n",
    "playlist_tracks = dict()"
   ]
  },
  {
   "cell_type": "code",
   "execution_count": 7,
   "metadata": {
    "collapsed": true
   },
   "outputs": [],
   "source": [
    "# Collect audio features per track per playlist\n",
    "for playlist in Spotify_playlists[\"ID\"]:\n",
    "    if Spotify_playlists.loc[Spotify_playlists['ID'] == playlist, 'No. of Tracks'].item():\n",
    "        try:\n",
    "            playlist_tracks[playlist] = get_playlist_tracks('supriyadi.idn', playlist)\n",
    "            time.sleep(random.randint(1, 3))\n",
    "        except:\n",
    "            pass"
   ]
  },
  {
   "cell_type": "code",
   "execution_count": 8,
   "metadata": {},
   "outputs": [
    {
     "name": "stdout",
     "output_type": "stream",
     "text": [
      "Number of Songs in Playlists: 365\n"
     ]
    }
   ],
   "source": [
    "songs_playlist = []\n",
    "\n",
    "for item,playlist in enumerate(playlist_tracks):\n",
    "    track_len = len(playlist_tracks[playlist])\n",
    "    for song_item,song in enumerate(playlist_tracks[playlist]):\n",
    "        songs_playlist.append((playlist,playlist_tracks[playlist][song_item]['track']['id']))\n",
    "        \n",
    "print(\"Number of Songs in Playlists: {}\".format(len(songs_playlist)))"
   ]
  },
  {
   "cell_type": "code",
   "execution_count": 9,
   "metadata": {
    "collapsed": true
   },
   "outputs": [],
   "source": [
    "# Create audio feature dictionary and set sleeping time thresholds\n",
    "songs = [item[1] for item in songs_playlist]\n",
    "\n",
    "audio_feat = dict()\n",
    "limit_songs_small = 10\n",
    "limit_songs_medium = 200"
   ]
  },
  {
   "cell_type": "code",
   "execution_count": 10,
   "metadata": {},
   "outputs": [
    {
     "name": "stdout",
     "output_type": "stream",
     "text": [
      "100%"
     ]
    }
   ],
   "source": [
    "# Audio feature extraction - saves information in cache\n",
    "for item,song in enumerate(songs):\n",
    "    if song not in audio_feat:\n",
    "        try:\n",
    "            audio_feat[song] = sp.audio_features(song)\n",
    "        except:\n",
    "            pass\n",
    "\n",
    "        if item % limit_songs_small == 0:\n",
    "            time.sleep(random.randint(0, 1))\n",
    "\n",
    "        if item % limit_songs_medium == 0:\n",
    "            time.sleep(random.randint(0, 1))\n",
    "\n",
    "        out = np.floor(item * 1. / len(songs_playlist) * 100)\n",
    "        sys.stdout.write(\"\\r%d%%\" % out)\n",
    "        sys.stdout.flush()\n",
    "\n",
    "sys.stdout.write(\"\\r%d%%\" % 100)"
   ]
  },
  {
   "cell_type": "code",
   "execution_count": 13,
   "metadata": {
    "collapsed": true
   },
   "outputs": [],
   "source": [
    "# Convert raw data into dictionaries\n",
    "acousticness = dict()\n",
    "danceability = dict()\n",
    "energy = dict()\n",
    "loudness = dict()\n",
    "speechiness = dict()\n",
    "tempo = dict()\n",
    "valence = dict()\n",
    "\n",
    "for item,song in enumerate(audio_feat):\n",
    "    try:\n",
    "        acousticness[song] = audio_feat[song][0]['acousticness']\n",
    "        danceability[song] = audio_feat[song][0]['danceability']\n",
    "        energy[song] = audio_feat[song][0]['energy']\n",
    "        loudness[song] = audio_feat[song][0]['loudness']\n",
    "        speechiness[song] = audio_feat[song][0]['speechiness']\n",
    "        tempo[song] = audio_feat[song][0]['tempo']\n",
    "        valence[song] = audio_feat[song][0]['valence']\n",
    "    except TypeError:\n",
    "        pass"
   ]
  },
  {
   "cell_type": "code",
   "execution_count": 15,
   "metadata": {
    "collapsed": true
   },
   "outputs": [],
   "source": [
    "# Creation of audio feature dataframes from dictionaries\n",
    "acc_df = pd.DataFrame(pd.Series(acousticness)).reset_index().rename(columns={'index': 'song', 0: 'acousticness'})\n",
    "dan_df = pd.DataFrame(pd.Series(danceability)).reset_index().rename(columns={'index': 'song', 0: 'dance'})\n",
    "ene_df = pd.DataFrame(pd.Series(energy)).reset_index().rename(columns={'index': 'song', 0: 'energy'})\n",
    "loud_df = pd.DataFrame(pd.Series(loudness)).reset_index().rename(columns={'index': 'song', 0: 'loudness'})\n",
    "spee_df = pd.DataFrame(pd.Series(speechiness)).reset_index().rename(columns={'index': 'song', 0: 'speech'})\n",
    "temp_df = pd.DataFrame(pd.Series(tempo)).reset_index().rename(columns={'index': 'song', 0: 'tempo'})\n",
    "vale_df = pd.DataFrame(pd.Series(valence)).reset_index().rename(columns={'index': 'song', 0: 'valence'})"
   ]
  },
  {
   "cell_type": "code",
   "execution_count": 20,
   "metadata": {},
   "outputs": [
    {
     "data": {
      "text/html": [
       "<div>\n",
       "<style>\n",
       "    .dataframe thead tr:only-child th {\n",
       "        text-align: right;\n",
       "    }\n",
       "\n",
       "    .dataframe thead th {\n",
       "        text-align: left;\n",
       "    }\n",
       "\n",
       "    .dataframe tbody tr th {\n",
       "        vertical-align: top;\n",
       "    }\n",
       "</style>\n",
       "<table border=\"1\" class=\"dataframe\">\n",
       "  <thead>\n",
       "    <tr style=\"text-align: right;\">\n",
       "      <th></th>\n",
       "      <th>acousticness</th>\n",
       "      <th>dance</th>\n",
       "      <th>energy</th>\n",
       "      <th>loudness</th>\n",
       "      <th>playlist</th>\n",
       "      <th>song</th>\n",
       "      <th>speech</th>\n",
       "      <th>tempo</th>\n",
       "      <th>valence</th>\n",
       "    </tr>\n",
       "  </thead>\n",
       "  <tbody>\n",
       "    <tr>\n",
       "      <th>0</th>\n",
       "      <td>0.694</td>\n",
       "      <td>0.585</td>\n",
       "      <td>0.303</td>\n",
       "      <td>-10.058</td>\n",
       "      <td>45UoCqtVh2BR1HteUkmRje</td>\n",
       "      <td>05pKAafT85jeeNhZ6kq7HT</td>\n",
       "      <td>0.0398</td>\n",
       "      <td>136.703</td>\n",
       "      <td>0.142</td>\n",
       "    </tr>\n",
       "    <tr>\n",
       "      <th>1</th>\n",
       "      <td>0.142</td>\n",
       "      <td>0.773</td>\n",
       "      <td>0.525</td>\n",
       "      <td>-11.398</td>\n",
       "      <td>45UoCqtVh2BR1HteUkmRje</td>\n",
       "      <td>09pYzzyrc6MsJXuG3K1ruC</td>\n",
       "      <td>0.0385</td>\n",
       "      <td>119.024</td>\n",
       "      <td>0.616</td>\n",
       "    </tr>\n",
       "    <tr>\n",
       "      <th>2</th>\n",
       "      <td>0.0824</td>\n",
       "      <td>0.472</td>\n",
       "      <td>0.373</td>\n",
       "      <td>-9.54</td>\n",
       "      <td>45UoCqtVh2BR1HteUkmRje</td>\n",
       "      <td>09xf9RNDZweJOgQmPO34ey</td>\n",
       "      <td>0.028</td>\n",
       "      <td>149.804</td>\n",
       "      <td>0.337</td>\n",
       "    </tr>\n",
       "    <tr>\n",
       "      <th>3</th>\n",
       "      <td>0.697</td>\n",
       "      <td>0.547</td>\n",
       "      <td>0.39</td>\n",
       "      <td>-5.946</td>\n",
       "      <td>45UoCqtVh2BR1HteUkmRje</td>\n",
       "      <td>0AZU3CiFFyt5pO5BacwNQV</td>\n",
       "      <td>0.0271</td>\n",
       "      <td>128.728</td>\n",
       "      <td>0.477</td>\n",
       "    </tr>\n",
       "    <tr>\n",
       "      <th>4</th>\n",
       "      <td>0.544</td>\n",
       "      <td>0.643</td>\n",
       "      <td>0.569</td>\n",
       "      <td>-7.459</td>\n",
       "      <td>45UoCqtVh2BR1HteUkmRje</td>\n",
       "      <td>0B5KeB25moPkcQUnbDvj3t</td>\n",
       "      <td>0.0276</td>\n",
       "      <td>120.507</td>\n",
       "      <td>0.275</td>\n",
       "    </tr>\n",
       "  </tbody>\n",
       "</table>\n",
       "</div>"
      ],
      "text/plain": [
       "  acousticness  dance energy loudness                playlist  \\\n",
       "0        0.694  0.585  0.303  -10.058  45UoCqtVh2BR1HteUkmRje   \n",
       "1        0.142  0.773  0.525  -11.398  45UoCqtVh2BR1HteUkmRje   \n",
       "2       0.0824  0.472  0.373    -9.54  45UoCqtVh2BR1HteUkmRje   \n",
       "3        0.697  0.547   0.39   -5.946  45UoCqtVh2BR1HteUkmRje   \n",
       "4        0.544  0.643  0.569   -7.459  45UoCqtVh2BR1HteUkmRje   \n",
       "\n",
       "                     song  speech    tempo valence  \n",
       "0  05pKAafT85jeeNhZ6kq7HT  0.0398  136.703   0.142  \n",
       "1  09pYzzyrc6MsJXuG3K1ruC  0.0385  119.024   0.616  \n",
       "2  09xf9RNDZweJOgQmPO34ey   0.028  149.804   0.337  \n",
       "3  0AZU3CiFFyt5pO5BacwNQV  0.0271  128.728   0.477  \n",
       "4  0B5KeB25moPkcQUnbDvj3t  0.0276  120.507   0.275  "
      ]
     },
     "execution_count": 20,
     "metadata": {},
     "output_type": "execute_result"
    }
   ],
   "source": [
    "# Merge individual dataframes into one features dataframe\n",
    "playlist_df = pd.DataFrame(songs_playlist,columns=['playlist','song'])\n",
    "\n",
    "frame_V1 = [acc_df,dan_df,ene_df,loud_df,spee_df,temp_df,vale_df]\n",
    "features = pd.concat(frame_V1,axis=1).T.groupby(level=0).first().T\n",
    "\n",
    "frame_V2 = [features,playlist_df]\n",
    "features_df = pd.concat(frame_V2,axis=1).T.groupby(level=0).first().T.dropna()\n",
    "\n",
    "features_df.head()"
   ]
  },
  {
   "cell_type": "code",
   "execution_count": 42,
   "metadata": {
    "collapsed": true
   },
   "outputs": [],
   "source": [
    "# Save as csv file\n",
    "features_df.to_csv('GetFeatures.csv', sep=',')"
   ]
  },
  {
   "cell_type": "code",
   "execution_count": null,
   "metadata": {
    "collapsed": true
   },
   "outputs": [],
   "source": []
  }
 ],
 "metadata": {
  "kernelspec": {
   "display_name": "Python 3",
   "language": "python",
   "name": "python3"
  },
  "language_info": {
   "codemirror_mode": {
    "name": "ipython",
    "version": 3
   },
   "file_extension": ".py",
   "mimetype": "text/x-python",
   "name": "python",
   "nbconvert_exporter": "python",
   "pygments_lexer": "ipython3",
   "version": "3.6.3"
  }
 },
 "nbformat": 4,
 "nbformat_minor": 2
}
