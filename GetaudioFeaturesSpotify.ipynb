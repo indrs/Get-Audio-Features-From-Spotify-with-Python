{
 "cells": [
  {
   "cell_type": "code",
   "execution_count": 1,
   "metadata": {
    "collapsed": true
   },
   "outputs": [],
   "source": [
    "#Import Packages\n",
    "import spotipy\n",
    "import spotipy.util as util\n",
    "from spotipy.oauth2 import SpotifyClientCredentials\n",
    "import pandas as pd\n",
    "import numpy as np\n",
    "import time\n",
    "import sys\n",
    "import random"
   ]
  },
  {
   "cell_type": "code",
   "execution_count": 3,
   "metadata": {
    "collapsed": true
   },
   "outputs": [],
   "source": [
    "# accessing Spotify API\n",
    "client_id = \"xxxxxxx\"\n",
    "client_secret = \"xxxxxxx\"\n",
    "# Setup the credentials\n",
    "client_credentials_manager = SpotifyClientCredentials(client_id=client_id, client_secret=client_secret)\n",
    "\n",
    "# Make the connection\n",
    "sp = spotipy.Spotify(client_credentials_manager=client_credentials_manager)"
   ]
  },
  {
   "cell_type": "code",
   "execution_count": 4,
   "metadata": {
    "collapsed": true
   },
   "outputs": [],
   "source": [
    "# Get playlist\n",
    "playlists = sp.user_playlists('supriyadi.idn')\n",
    "\n",
    "# Empty list to hold playlist information\n",
    "spotify_playlists = []\n",
    "\n",
    "# Loop to get data for each playlist\n",
    "while playlists:\n",
    "    \n",
    "    for i, playlist in enumerate(playlists['items']):\n",
    "        names = playlist['name']\n",
    "        track_count = playlist['tracks']['total']\n",
    "        ids = playlist['id']\n",
    "        uri = playlist['uri']\n",
    "        href = playlist['href']\n",
    "        public = playlist['public']\n",
    "        data_aggregation = names, track_count, ids, uri, href, public\n",
    "        spotify_playlists.append(data_aggregation)\n",
    "        \n",
    "    if playlists['next']:\n",
    "        playlists = sp.next(playlists)\n",
    "    \n",
    "    else:\n",
    "        playlists = None"
   ]
  },
  {
   "cell_type": "code",
   "execution_count": 5,
   "metadata": {},
   "outputs": [
    {
     "data": {
      "text/html": [
       "<div>\n",
       "<style>\n",
       "    .dataframe thead tr:only-child th {\n",
       "        text-align: right;\n",
       "    }\n",
       "\n",
       "    .dataframe thead th {\n",
       "        text-align: left;\n",
       "    }\n",
       "\n",
       "    .dataframe tbody tr th {\n",
       "        vertical-align: top;\n",
       "    }\n",
       "</style>\n",
       "<table border=\"1\" class=\"dataframe\">\n",
       "  <thead>\n",
       "    <tr style=\"text-align: right;\">\n",
       "      <th></th>\n",
       "      <th>Name</th>\n",
       "      <th>No. of Tracks</th>\n",
       "      <th>ID</th>\n",
       "      <th>URI</th>\n",
       "      <th>HREF</th>\n",
       "      <th>Public</th>\n",
       "    </tr>\n",
       "  </thead>\n",
       "  <tbody>\n",
       "    <tr>\n",
       "      <th>0</th>\n",
       "      <td>pop</td>\n",
       "      <td>365</td>\n",
       "      <td>45UoCqtVh2BR1HteUkmRje</td>\n",
       "      <td>spotify:user:supriyadi.idn:playlist:45UoCqtVh2...</td>\n",
       "      <td>https://api.spotify.com/v1/users/supriyadi.idn...</td>\n",
       "      <td>True</td>\n",
       "    </tr>\n",
       "  </tbody>\n",
       "</table>\n",
       "</div>"
      ],
      "text/plain": [
       "  Name No. of Tracks                      ID  \\\n",
       "0  pop           365  45UoCqtVh2BR1HteUkmRje   \n",
       "\n",
       "                                                 URI  \\\n",
       "0  spotify:user:supriyadi.idn:playlist:45UoCqtVh2...   \n",
       "\n",
       "                                                HREF Public  \n",
       "0  https://api.spotify.com/v1/users/supriyadi.idn...   True  "
      ]
     },
     "execution_count": 5,
     "metadata": {},
     "output_type": "execute_result"
    }
   ],
   "source": [
    "# Convert list into a dataframe\n",
    "data = pd.DataFrame(np.array(spotify_playlists).reshape(len(spotify_playlists),6), \n",
    "                    columns=['Name', 'No. of Tracks', 'ID', 'URI', 'HREF', 'Public'])\n",
    "data.head()"
   ]
  },
  {
   "cell_type": "code",
   "execution_count": 6,
   "metadata": {
    "collapsed": true
   },
   "outputs": [],
   "source": [
    "# New function to get tracks in playlist\n",
    "def get_playlist_tracks(username, playlist_id):\n",
    "    results = sp.user_playlist_tracks(username, playlist_id)\n",
    "    tracks = results['items']\n",
    "    while results['next']:\n",
    "        results = sp.next(results)\n",
    "        tracks.extend(results['items'])\n",
    "    return tracks"
   ]
  },
  {
   "cell_type": "code",
   "execution_count": 7,
   "metadata": {
    "collapsed": true
   },
   "outputs": [],
   "source": [
    "# Subsample of data to pull\n",
    "Spotify_playlists = data.iloc[0:10]\n",
    "\n",
    "# Create playlist cache in memory\n",
    "playlist_tracks = dict()"
   ]
  },
  {
   "cell_type": "code",
   "execution_count": 8,
   "metadata": {
    "collapsed": true
   },
   "outputs": [],
   "source": [
    "# Collect audio features per track per playlist\n",
    "for playlist in Spotify_playlists[\"ID\"]:\n",
    "    if Spotify_playlists.loc[Spotify_playlists['ID'] == playlist, 'No. of Tracks'].item():\n",
    "        try:\n",
    "            playlist_tracks[playlist] = get_playlist_tracks('supriyadi.idn', playlist)\n",
    "            time.sleep(random.randint(1, 3))\n",
    "        except:\n",
    "            pass"
   ]
  },
  {
   "cell_type": "code",
   "execution_count": 9,
   "metadata": {},
   "outputs": [
    {
     "name": "stdout",
     "output_type": "stream",
     "text": [
      "Number of Songs in Playlists: 365\n"
     ]
    }
   ],
   "source": [
    "songs_playlist = []\n",
    "\n",
    "for item,playlist in enumerate(playlist_tracks):\n",
    "    track_len = len(playlist_tracks[playlist])\n",
    "    for song_item,song in enumerate(playlist_tracks[playlist]):\n",
    "        songs_playlist.append((playlist,playlist_tracks[playlist][song_item]['track']['id']))\n",
    "        \n",
    "print(\"Number of Songs in Playlists: {}\".format(len(songs_playlist)))"
   ]
  },
  {
   "cell_type": "code",
   "execution_count": 10,
   "metadata": {
    "collapsed": true
   },
   "outputs": [],
   "source": [
    "# Create audio feature dictionary and set sleeping time thresholds\n",
    "songs = [item[1] for item in songs_playlist]\n",
    "\n",
    "audio_feat = dict()\n",
    "limit_songs_small = 10\n",
    "limit_songs_medium = 200"
   ]
  },
  {
   "cell_type": "code",
   "execution_count": 11,
   "metadata": {},
   "outputs": [
    {
     "name": "stdout",
     "output_type": "stream",
     "text": [
      "100%"
     ]
    }
   ],
   "source": [
    "# Audio feature extraction - saves information in cache\n",
    "for item,song in enumerate(songs):\n",
    "    if song not in audio_feat:\n",
    "        try:\n",
    "            audio_feat[song] = sp.audio_features(song)\n",
    "        except:\n",
    "            pass\n",
    "\n",
    "        if item % limit_songs_small == 0:\n",
    "            time.sleep(random.randint(0, 1))\n",
    "\n",
    "        if item % limit_songs_medium == 0:\n",
    "            time.sleep(random.randint(0, 1))\n",
    "\n",
    "        out = np.floor(item * 1. / len(songs_playlist) * 100)\n",
    "        sys.stdout.write(\"\\r%d%%\" % out)\n",
    "        sys.stdout.flush()\n",
    "\n",
    "sys.stdout.write(\"\\r%d%%\" % 100)"
   ]
  },
  {
   "cell_type": "code",
   "execution_count": 15,
   "metadata": {
    "collapsed": true
   },
   "outputs": [],
   "source": [
    "# Convert raw data into dictionaries\n",
    "acousticness = dict()\n",
    "danceability = dict()\n",
    "duration_ms = dict()\n",
    "energy = dict()\n",
    "instrumentalness = dict()\n",
    "key = dict()\n",
    "liveness = dict()\n",
    "loudness = dict()\n",
    "mode = dict()\n",
    "speechiness = dict()\n",
    "tempo = dict()\n",
    "time_signature = dict()\n",
    "valence = dict()\n",
    "\n",
    "for item,song in enumerate(audio_feat):\n",
    "    try:\n",
    "        acousticness[song] = audio_feat[song][0]['acousticness']\n",
    "        danceability[song] = audio_feat[song][0]['danceability']\n",
    "        duration_ms[song] = audio_feat[song][0]['duration_ms']\n",
    "        energy[song] = audio_feat[song][0]['energy']\n",
    "        instrumentalness[song] = audio_feat[song][0]['instrumentalness']\n",
    "        key[song] = audio_feat[song][0]['key']\n",
    "        liveness[song] = audio_feat[song][0]['liveness']\n",
    "        loudness[song] = audio_feat[song][0]['loudness']\n",
    "        mode[song] = audio_feat[song][0]['mode']\n",
    "        speechiness[song] = audio_feat[song][0]['speechiness']\n",
    "        tempo[song] = audio_feat[song][0]['tempo']\n",
    "        time_signature[song] = audio_feat[song][0]['time_signature']\n",
    "        valence[song] = audio_feat[song][0]['valence']\n",
    "    except TypeError:\n",
    "        pass"
   ]
  },
  {
   "cell_type": "code",
   "execution_count": 16,
   "metadata": {
    "collapsed": true
   },
   "outputs": [],
   "source": [
    "# Creation of audio feature dataframes from dictionaries\n",
    "acc_df = pd.DataFrame(pd.Series(acousticness)).reset_index().rename(columns={'index': 'song', 0: 'acousticness'})\n",
    "dan_df = pd.DataFrame(pd.Series(danceability)).reset_index().rename(columns={'index': 'song', 0: 'dance'})\n",
    "dur_df = pd.DataFrame(pd.Series(duration_ms)).reset_index().rename(columns={'index': 'song', 0: 'duration'})\n",
    "ene_df = pd.DataFrame(pd.Series(energy)).reset_index().rename(columns={'index': 'song', 0: 'energy'})\n",
    "inst_df = pd.DataFrame(pd.Series(instrumentalness)).reset_index().rename(columns={'index': 'song', 0: 'instrumentalness'})\n",
    "key_df = pd.DataFrame(pd.Series(key)).reset_index().rename(columns={'index': 'song', 0: 'key'})\n",
    "live_df = pd.DataFrame(pd.Series(liveness)).reset_index().rename(columns={'index': 'song', 0: 'liveness'})\n",
    "loud_df = pd.DataFrame(pd.Series(loudness)).reset_index().rename(columns={'index': 'song', 0: 'loudness'})\n",
    "mode_df = pd.DataFrame(pd.Series(mode)).reset_index().rename(columns={'index': 'song', 0: 'mode'})\n",
    "spee_df = pd.DataFrame(pd.Series(speechiness)).reset_index().rename(columns={'index': 'song', 0: 'speech'})\n",
    "temp_df = pd.DataFrame(pd.Series(tempo)).reset_index().rename(columns={'index': 'song', 0: 'tempo'})\n",
    "time_df = pd.DataFrame(pd.Series(time_signature)).reset_index().rename(columns={'index': 'song', 0: 'time'})\n",
    "vale_df = pd.DataFrame(pd.Series(valence)).reset_index().rename(columns={'index': 'song', 0: 'valence'})"
   ]
  },
  {
   "cell_type": "code",
   "execution_count": 18,
   "metadata": {},
   "outputs": [
    {
     "data": {
      "text/html": [
       "<div>\n",
       "<style>\n",
       "    .dataframe thead tr:only-child th {\n",
       "        text-align: right;\n",
       "    }\n",
       "\n",
       "    .dataframe thead th {\n",
       "        text-align: left;\n",
       "    }\n",
       "\n",
       "    .dataframe tbody tr th {\n",
       "        vertical-align: top;\n",
       "    }\n",
       "</style>\n",
       "<table border=\"1\" class=\"dataframe\">\n",
       "  <thead>\n",
       "    <tr style=\"text-align: right;\">\n",
       "      <th></th>\n",
       "      <th>acousticness</th>\n",
       "      <th>dance</th>\n",
       "      <th>duration</th>\n",
       "      <th>energy</th>\n",
       "      <th>instrumentalness</th>\n",
       "      <th>key</th>\n",
       "      <th>liveness</th>\n",
       "      <th>loudness</th>\n",
       "      <th>mode</th>\n",
       "      <th>playlist</th>\n",
       "      <th>song</th>\n",
       "      <th>speech</th>\n",
       "      <th>tempo</th>\n",
       "      <th>time</th>\n",
       "      <th>valence</th>\n",
       "    </tr>\n",
       "  </thead>\n",
       "  <tbody>\n",
       "    <tr>\n",
       "      <th>350</th>\n",
       "      <td>0.853</td>\n",
       "      <td>0.49</td>\n",
       "      <td>239466</td>\n",
       "      <td>0.335</td>\n",
       "      <td>1.77e-05</td>\n",
       "      <td>3</td>\n",
       "      <td>0.1</td>\n",
       "      <td>-9.048</td>\n",
       "      <td>1</td>\n",
       "      <td>45UoCqtVh2BR1HteUkmRje</td>\n",
       "      <td>7vZTvo2aJ6wHKCGjwjdWIf</td>\n",
       "      <td>0.0347</td>\n",
       "      <td>173.493</td>\n",
       "      <td>4</td>\n",
       "      <td>0.519</td>\n",
       "    </tr>\n",
       "    <tr>\n",
       "      <th>351</th>\n",
       "      <td>0.0653</td>\n",
       "      <td>0.421</td>\n",
       "      <td>202533</td>\n",
       "      <td>0.873</td>\n",
       "      <td>0</td>\n",
       "      <td>10</td>\n",
       "      <td>0.123</td>\n",
       "      <td>-4.343</td>\n",
       "      <td>1</td>\n",
       "      <td>45UoCqtVh2BR1HteUkmRje</td>\n",
       "      <td>7wMq5n8mYSKlQIGECKUgTX</td>\n",
       "      <td>0.0565</td>\n",
       "      <td>84.803</td>\n",
       "      <td>4</td>\n",
       "      <td>0.63</td>\n",
       "    </tr>\n",
       "    <tr>\n",
       "      <th>352</th>\n",
       "      <td>0.793</td>\n",
       "      <td>0.554</td>\n",
       "      <td>282040</td>\n",
       "      <td>0.266</td>\n",
       "      <td>0</td>\n",
       "      <td>11</td>\n",
       "      <td>0.11</td>\n",
       "      <td>-9.435</td>\n",
       "      <td>0</td>\n",
       "      <td>45UoCqtVh2BR1HteUkmRje</td>\n",
       "      <td>7wPlxhTeGIT9tm0pk03vwq</td>\n",
       "      <td>0.0319</td>\n",
       "      <td>103.902</td>\n",
       "      <td>4</td>\n",
       "      <td>0.302</td>\n",
       "    </tr>\n",
       "    <tr>\n",
       "      <th>353</th>\n",
       "      <td>0.0122</td>\n",
       "      <td>0.439</td>\n",
       "      <td>168000</td>\n",
       "      <td>0.891</td>\n",
       "      <td>0</td>\n",
       "      <td>0</td>\n",
       "      <td>0.547</td>\n",
       "      <td>-4.764</td>\n",
       "      <td>1</td>\n",
       "      <td>45UoCqtVh2BR1HteUkmRje</td>\n",
       "      <td>7yCPwWs66K8Ba5lFuU2bcx</td>\n",
       "      <td>0.057</td>\n",
       "      <td>148.599</td>\n",
       "      <td>4</td>\n",
       "      <td>0.695</td>\n",
       "    </tr>\n",
       "    <tr>\n",
       "      <th>354</th>\n",
       "      <td>0.89</td>\n",
       "      <td>0.585</td>\n",
       "      <td>187614</td>\n",
       "      <td>0.496</td>\n",
       "      <td>0.00282</td>\n",
       "      <td>8</td>\n",
       "      <td>0.122</td>\n",
       "      <td>-9.769</td>\n",
       "      <td>1</td>\n",
       "      <td>45UoCqtVh2BR1HteUkmRje</td>\n",
       "      <td>7zDGRvUdsgVWBfsYp6YffE</td>\n",
       "      <td>0.0257</td>\n",
       "      <td>98.548</td>\n",
       "      <td>4</td>\n",
       "      <td>0.242</td>\n",
       "    </tr>\n",
       "  </tbody>\n",
       "</table>\n",
       "</div>"
      ],
      "text/plain": [
       "    acousticness  dance duration energy instrumentalness key liveness  \\\n",
       "350        0.853   0.49   239466  0.335         1.77e-05   3      0.1   \n",
       "351       0.0653  0.421   202533  0.873                0  10    0.123   \n",
       "352        0.793  0.554   282040  0.266                0  11     0.11   \n",
       "353       0.0122  0.439   168000  0.891                0   0    0.547   \n",
       "354         0.89  0.585   187614  0.496          0.00282   8    0.122   \n",
       "\n",
       "    loudness mode                playlist                    song  speech  \\\n",
       "350   -9.048    1  45UoCqtVh2BR1HteUkmRje  7vZTvo2aJ6wHKCGjwjdWIf  0.0347   \n",
       "351   -4.343    1  45UoCqtVh2BR1HteUkmRje  7wMq5n8mYSKlQIGECKUgTX  0.0565   \n",
       "352   -9.435    0  45UoCqtVh2BR1HteUkmRje  7wPlxhTeGIT9tm0pk03vwq  0.0319   \n",
       "353   -4.764    1  45UoCqtVh2BR1HteUkmRje  7yCPwWs66K8Ba5lFuU2bcx   0.057   \n",
       "354   -9.769    1  45UoCqtVh2BR1HteUkmRje  7zDGRvUdsgVWBfsYp6YffE  0.0257   \n",
       "\n",
       "       tempo time valence  \n",
       "350  173.493    4   0.519  \n",
       "351   84.803    4    0.63  \n",
       "352  103.902    4   0.302  \n",
       "353  148.599    4   0.695  \n",
       "354   98.548    4   0.242  "
      ]
     },
     "execution_count": 18,
     "metadata": {},
     "output_type": "execute_result"
    }
   ],
   "source": [
    "# Merge individual dataframes into one features dataframe\n",
    "playlist_df = pd.DataFrame(songs_playlist,columns=['playlist','song'])\n",
    "\n",
    "frame_V1 = [acc_df,dan_df,dur_df,ene_df,inst_df,key_df,live_df,loud_df,mode_df,spee_df,temp_df,time_df,vale_df]\n",
    "features = pd.concat(frame_V1,axis=1).T.groupby(level=0).first().T\n",
    "\n",
    "frame_V2 = [features,playlist_df]\n",
    "features_df = pd.concat(frame_V2,axis=1).T.groupby(level=0).first().T.dropna()\n",
    "\n",
    "features_df.tail()"
   ]
  },
  {
   "cell_type": "code",
   "execution_count": null,
   "metadata": {
    "collapsed": true
   },
   "outputs": [],
   "source": [
    "# Save as csv file\n",
    "features_df.to_csv('GetFeatures.csv', sep=',')"
   ]
  }
 ],
 "metadata": {
  "kernelspec": {
   "display_name": "Python 3",
   "language": "python",
   "name": "python3"
  },
  "language_info": {
   "codemirror_mode": {
    "name": "ipython",
    "version": 3
   },
   "file_extension": ".py",
   "mimetype": "text/x-python",
   "name": "python",
   "nbconvert_exporter": "python",
   "pygments_lexer": "ipython3",
   "version": "3.6.3"
  }
 },
 "nbformat": 4,
 "nbformat_minor": 2
}
